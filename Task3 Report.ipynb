{
 "cells": [
  {
   "cell_type": "markdown",
   "metadata": {},
   "source": [
    "PLASMA PROJECT REPORT\n",
    "\n",
    "Abstract:\n",
    "\n",
    "Understanding galactic mean-field dynamos is crucial for unraveling the mysteries of large-scale magnetic fields in galaxies like the Milky Way. In this computational project, we focus on a specific question regarding the behavior of the dynamo under certain conditions. Our goal is to investigate the saturated solutions of the dynamo equations in one dimension along the z-axis, utilizing a prescribed functional form for the alpha parameter. We implemented numerical methods, including time-stepping routines and finite differencing, tailored to solve the dynamo equations efficiently. Our findings reveal key insights into the behavior of the dynamo in the presence of the prescribed alpha profile. The implications of our results extend to a better understanding of how magnetic fields evolve in galaxies, shedding light on the broader context of galactic dynamo theory.\n",
    "\n",
    "Introduction:\n",
    "\n",
    "Galactic magnetic fields play a pivotal role in various astrophysical processes, yet their origins and evolution remain enigmatic. Large-scale magnetic fields, often observed in spiral galaxies like the Milky Way, are thought to arise from galactic mean-field dynamos. These dynamos operate through the amplification of weak seed fields via the combined effects of differential rotation and turbulent motions within the galactic disk.\n",
    "\n",
    "Methods:\n",
    "\n",
    "To address the specific question posed in task 3, we developed computational methods tailored to solve the dynamo equations in one dimension along the z-axis. Our numerical framework includes time-stepping routines, finite differencing schemes, and boundary condition implementations. Additionally, we computed key dynamo properties such as the growth rate, eigenvalues, and eigenfunctions to characterize the behavior of the system under consideration.\n",
    "\n",
    "Results:"
   ]
  }
 ],
 "metadata": {
  "language_info": {
   "name": "python"
  }
 },
 "nbformat": 4,
 "nbformat_minor": 2
}
