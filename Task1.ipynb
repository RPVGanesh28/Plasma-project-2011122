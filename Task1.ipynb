
THEORY:

Mean-Field Induction Equation: The mean-field induction equation describes the evolution of a magnetic field in a conducting fluid, considering both advection (movement with the fluid) and diffusion (spreading out) effects. It can be expressed as:

Here, represents the mean magnetic field, is the mean velocity of the fluid, ( E ) represents any external forces acting on the magnetic field, and is the magnetic diffusivity.

Omitting Terms: To simplify the equation, we're omitting terms involving the cross product of V and as well as the term involving α, yielding:

Defining : We introduce a new term which is a combination of the constant diffusivity and any time-dependent contribution . Mathematically, .

Simplification with Independent : Assuming is independent of , our equation further simplifies to:

Utilizing Vector Calculus: We use vector calculus identities to simplify . Specifically, .

Gauss's Law Assumption: Gauss's law for magnetism states that , implying that the divergence of the magnetic field is zero.

Final Diffusion Equation: Substituting into the equation, we get:

This equation describes Firkian diffusion, which governs the temporal evolution of the mean magnetic field in the absence of advective effects and external forces, under the assumption of constant magnetic diffusivity.

Numerical Solution: Numerically solving this diffusion equation involves discretizing space and time and using numerical methods such as finite difference, finite element, or spectral methods to approximate the solution over a computational domain.

Representation in Cylindrical Coordinates: In cylindrical coordinates, the magnetic field is represented as a sum of three components: , where are unit vectors along the radial, azimuthal, and axial directions respectively. Laplacian Operator in Cylindrical Coordinates: The Laplacian operator ∇2∇2 in cylindrical coordinates is expressed as:

Fickian Diffusion Equations: These simplified equations represent the Fickian diffusion equation, describing the evolution of the magnetic field component solely in the z-direction over time under the influence of diffusion. Unique Presentation: Emphasize the significance of cylindrical coordinates in describing systems with cylindrical symmetry, such as cylindrical conductors or rotating machinery. Discussing the specific application or relevance of solving diffusion equations in such coordinates can add authenticity to your explanation.

Physical Interpretation: The magnetic decay constant γ characterizes the rate at which the total magnetic field diminishes over time due to diffusion processes. A larger γ indicates faster decay, while a smaller γ suggests slower diffusion and hence slower decay of the magnetic field. Relevance and Application: Discuss the significance of determining γ in understanding the dynamics of magnetic fields in various physical systems, such as plasma confinement in fusion reactors, magnetic resonance imaging (MRI) in medical diagnostics, or magnetohydrodynamic (MHD) processes in astrophysical phenomena. Introduction to Solver: Crank-Nicholson: The Crank-Nicholson algorithm is a numerical method commonly used to solve partial differential equations, such as the diffusion equation. It's particularly effective for simulating heat diffusion processes, as it combines both implicit and explicit schemes.

Principle of Crank-Nicholson Algorithm: The Crank-Nicholson method utilizes a weighted average of values at current and next time steps to update the solution, resulting in a scheme that is second-order accurate in both time and space. It strikes a balance between stability and accuracy by implicitly incorporating future values and explicitly considering current values.

Comparison with Forward Euler Method: While the Forward Euler method also approximates future values based on current conditions, the Crank-Nicholson method enhances stability and accuracy by averaging values from both current and next time steps. This helps reduce numerical errors and suppress oscillations in the solution.

Stencil Illustration: The stencil of both the Forward Euler and Crank-Nicholson methods illustrates the difference in their approach to updating the solution. The Crank-Nicholson stencil typically involves weighted averages of neighboring points in both time and space, contributing to its stability and accuracy.

Advantages of Crank-Nicholson Method:

Stability: The Crank-Nicholson method is highly stable, allowing for larger time steps compared to purely explicit methods. Accuracy: By considering values from both current and next time steps, the method achieves second-order accuracy in time and space, resulting in more precise simulations. Efficiency: Despite its implicit nature, the Crank-Nicholson method is computationally efficient and well-suited for solving diffusion equations efficiently. Application to Heat Diffusion Equations: Due to its stability, accuracy, and efficiency, the Crank-Nicholson method is particularly well-suited for simulating heat diffusion processes. It enables researchers to model temperature distributions in various systems accurately and predictively, ranging from materials science to astrophysics.

Spatial Grid: The spatial grid is defined to cover the vertical extent of a galactic disk, which typically ranges from -100 pc to +100 pc in the z-direction. To facilitate numerical simulations, the spatial grid is normalized to -1 to 1 with a grid cell size of dz=0.01. This choice allows for accurate resolution while maintaining computational efficiency. It's crucial to ensure that the grid spans the entire region of interest with sufficient resolution to capture variations in the magnetic field. Temporal Grid: The temporal grid represents the range of time over which the simulation is conducted. While the variation of magnetic fields in galaxies can span millions of years, the specific duration depends on factors such as the seed field and the desired level of accuracy. Typically, the temporal grid is divided into 100 points to adequately sample the time domain and capture the evolution of the magnetic field over time. Magnetic Diffusion Coefficient (): The magnetic diffusion coefficient () quantifies the rate at which magnetic fields diffuse through a medium. It's calculated based on the Faraday time (τ) Significance of Parameters: It's important to emphasize the significance of each parameter in the context of modeling galactic magnetic fields. The spatial grid ensures proper resolution in the vertical direction, the temporal grid captures the evolution of the magnetic field over time, and the magnetic diffusion coefficient determines the rate of diffusion, influencing the behavior of the magnetic field.

Boundary Conditions: Boundary conditions define the behavior of a solution at the boundaries of the computational domain. In the case of simulating magnetic field diffusion in a galactic disk, two common types of boundary conditions are considered: vacuum boundary conditions and isolated boundary conditions. Types of Boundary Conditions: • Vacuum Boundary Conditions (BC): Vacuum boundary conditions prescribe that there is no magnetic field or flux across the boundaries at all times. In other words, the magnetic field values are set to zero at the boundaries, representing an absence of external magnetic influence. • Isolated Boundary Conditions: Isolated boundary conditions imply that there is no flow of magnetic flux across the boundaries, but the magnetic field within the domain is allowed to evolve independently. It's like having reflective boundaries where the magnetic field is mirrored back into the domain. Application in Galactic Magnetic Field Simulation: • Choice of Boundary Conditions: Considering the diffusion of B_r and B_ϕ components within the thin disk approximation of a galactic disk, it's reasonable to assume that magnetic fields diminish as the distance in the z-direction increases beyond a certain threshold (e.g., 100z>100 pc). Therefore, vacuum boundary conditions are applied at all boundaries. • Justification: Within the thin disk approximation, the dominant magnetic field component Bz tends to dominate over B_r and B_ϕ as z increases. Therefore, setting B_r and B_ϕ to zero at the boundaries reflects the diminishing influence of these components at large distances from the galactic plane. Significance of Boundary Conditions: The choice of boundary conditions significantly affects the behavior and accuracy of the simulation. Vacuum boundary conditions are appropriate for modeling scenarios where the magnetic field is negligible or vanishes at the boundaries, as in the case of galactic magnetic fields extending beyond the thin disk approximation.

1.Intial conditions(Br(z)=exp(-z2),Bphi(z)=sin(np.pi * z)2)

import matplotlib.pyplot as plt
import numpy as np

# Define initial conditions for magnetic field components Br and Bphi
def initial_condition_Br(z):
    return np.exp(-z**2)

def initial_condition_Bphi(z):
    return np.sin(np.pi * z)**2

# Define a source term (if applicable, otherwise set to zero)
def source_term(z, t):
    return 0

# Define the spatial grid
z = np.linspace(-1, 1, 101)

# Define titles for the plots
title_Br = r'Gaussian Seed Field' + '\n' + r'$ B_r(z) = e^{-z^2}$'
title_Bphi = r'Sine Square Seed Field' + '\n' + r'$ B_{\phi}(z) = \sin^2(\pi z)$'

# Plot the initial conditions for Br and Bphi
plt.figure(figsize=(10, 5))

plt.subplot(1, 2, 1)
plt.plot(z, initial_condition_Br(z), label='Br(z)')
plt.title(title_Br)
plt.xlabel('z')
plt.ylabel('Magnitude')
plt.legend()

plt.subplot(1, 2, 2)
plt.plot(z, initial_condition_Bphi(z), label='Bphi(z)')
plt.title(title_Bphi)
plt.xlabel('z')
plt.ylabel('Magnitude')
plt.legend()

plt.tight_layout()
plt.show()

import matplotlib.pyplot as plt
import numpy as np

# Constants and parameters
eta_T = 3.48e-3    # Magnetic diffusivity
t_max = 200         # Total simulation time
z_min = -1.0        # Minimum thickness of the disk
z_max = 1.0         # Thickness of the disk
dt = t_max / 200    # Time step
dz = 0.01           # Spatial step in the z-direction

# Define initial conditions for Br and Bphi (Gaussian and sine square seed fields)
def init_cond_Br(z):
    return np.exp(-z**2)

def init_cond_Bphi(z):
    return np.sin(np.pi * z)**2

# Define a source term (if applicable, otherwise set to zero)
def source_term(z, t):
    return 0

# Define a function to plot the diffusion equation solutions
def plot_diffusion_solution(time_grid, spatial_grid, solution_r, solution_phi):
    plt.figure(figsize=(12, 6))

    # Plot solution for Br
    plt.subplot(1, 2, 1)
    plt.imshow(solution_r, extent=[spatial_grid[0], spatial_grid[-1], time_grid[0], time_grid[-1]], aspect='auto', cmap='viridis')
    plt.colorbar(label='Br')
    plt.xlabel('z')
    plt.ylabel('Time')
    plt.title('Solution for Br')

    # Plot solution for Bphi
    plt.subplot(1, 2, 2)
    plt.imshow(solution_phi, extent=[spatial_grid[0], spatial_grid[-1], time_grid[0], time_grid[-1]], aspect='auto', cmap='viridis')
    plt.colorbar(label='Bphi')
    plt.xlabel('z')
    plt.ylabel('Time')
    plt.title('Solution for Bphi')

    plt.tight_layout()

# Define the diffusion equation solver
def crank_nicolson_diffusion(z_min, z_max, t_max, dz, dt, eta_T, init_cond, source_term):
    # Define spatial grid
    spatial_grid = np.arange(z_min, z_max + dz, dz)
    num_z_points = len(spatial_grid)
    
    # Define time grid
    time_grid = np.arange(0, t_max + dt, dt)
    num_t_points = len(time_grid)
    
    # Initialize solution matrix
    solution = np.zeros((num_t_points, num_z_points))
    
    # Set initial condition
    solution[0] = init_cond(spatial_grid)
    
    # Construct diffusion matrix
    diff_matrix = construct_diffusion_matrix(num_z_points, dz, eta_T)
    
    # Iterate over time steps
    for i in range(1, num_t_points):
        # Compute source term at current time step
        source = source_term(spatial_grid, time_grid[i])
        
        # Define matrices A and B for the Crank-Nicolson method
        A = np.eye(num_z_points) - 0.5 * dt * diff_matrix
        B = np.eye(num_z_points) + 0.5 * dt * diff_matrix
        
        # Apply boundary conditions (e.g., vacuum boundary conditions)
        A[0, 0] = 1
        A[-1, -1] = 1
        B[0, 0] = 1
        B[-1, -1] = 1
        
        # Compute next time step using Crank-Nicolson method
        solution[i] = np.linalg.solve(A, np.dot(B, solution[i - 1]) + 0.5 * dt * source)
    
    return solution, spatial_grid, time_grid

def construct_diffusion_matrix(num_points, dz, eta_T):
    # Construct diffusion matrix using central difference scheme
    diff_matrix = np.zeros((num_points, num_points))
    for i in range(1, num_points - 1):
        diff_matrix[i, i - 1] = eta_T / dz**2
        diff_matrix[i, i] = -2 * eta_T / dz**2
        diff_matrix[i, i + 1] = eta_T / dz**2
    return diff_matrix

# Call the crank_nicolson_diffusion function to obtain the solution
solution_r, spatial_grid, time_grid = crank_nicolson_diffusion(z_min, z_max, t_max, dz, dt, eta_T, init_cond_Br, source_term)
solution_phi, _, _ = crank_nicolson_diffusion(z_min, z_max, t_max, dz, dt, eta_T, init_cond_Bphi, source_term)

# Plot the solution
plot_diffusion_solution(time_grid, spatial_grid, solution_r, solution_phi)
plt.show()

import matplotlib.pyplot as plt
import numpy as np

# Constants and parameters
eta_T = 3.48e-3    # Magnetic diffusivity
t_max = 200         # Total simulation time
z_min = -1.0        # Minimum thickness of the disk
z_max = 1.0         # Thickness of the disk
dt = t_max / 200    # Time step
dz = 0.01           # Spatial step in the z-direction

# Define initial conditions for Br and Bphi (Gaussian and sine square seed fields)
def init_cond_Br(z):
    return np.exp(-z**2)

def init_cond_Bphi(z):
    return np.sin(np.pi * z)**2

# Define a source term (if applicable, otherwise set to zero)
def source_term(z, t):
    return 0

# Define a function to plot the diffusion equation solutions
def plot_diffusion_solution(time_grid, spatial_grid, solution_r, solution_phi):
    plt.figure(figsize=(12, 6))

    # Plot solution for Br
    plt.subplot(1, 2, 1)
    plt.imshow(solution_r, extent=[spatial_grid[0], spatial_grid[-1], time_grid[0], time_grid[-1]], aspect='auto', cmap='viridis')
    plt.colorbar(label='Br')
    plt.xlabel('z')
    plt.ylabel('Time')
    plt.title('Solution for Br')

    # Plot solution for Bphi
    plt.subplot(1, 2, 2)
    plt.imshow(solution_phi, extent=[spatial_grid[0], spatial_grid[-1], time_grid[0], time_grid[-1]], aspect='auto', cmap='viridis')
    plt.colorbar(label='Bphi')
    plt.xlabel('z')
    plt.ylabel('Time')
    plt.title('Solution for Bphi')

    plt.tight_layout()

# Define the diffusion equation solver
def crank_nicolson_diffusion(z_min, z_max, t_max, dz, dt, eta_T, init_cond, source_term):
    # Define spatial grid
    spatial_grid = np.arange(z_min, z_max + dz, dz)
    num_z_points = len(spatial_grid)
    
    # Define time grid
    time_grid = np.arange(0, t_max + dt, dt)
    num_t_points = len(time_grid)
    
    # Initialize solution matrix
    solution = np.zeros((num_t_points, num_z_points))
    
    # Set initial condition
    solution[0] = init_cond(spatial_grid)
    
    # Construct diffusion matrix
    diff_matrix = construct_diffusion_matrix(num_z_points, dz, eta_T)
    
    # Iterate over time steps
    for i in range(1, num_t_points):
        # Compute source term at current time step
        source = source_term(spatial_grid, time_grid[i])
        
        # Define matrices A and B for the Crank-Nicolson method
        A = np.eye(num_z_points) - 0.5 * dt * diff_matrix
        B = np.eye(num_z_points) + 0.5 * dt * diff_matrix
        
        # Apply boundary conditions (e.g., vacuum boundary conditions)
        A[0, 0] = 1
        A[-1, -1] = 1
        B[0, 0] = 1
        B[-1, -1] = 1
        
        # Compute next time step using Crank-Nicolson method
        solution[i] = np.linalg.solve(A, np.dot(B, solution[i - 1]) + 0.5 * dt * source)
    
    return solution, spatial_grid, time_grid

def construct_diffusion_matrix(num_points, dz, eta_T):
    # Construct diffusion matrix using central difference scheme
    diff_matrix = np.zeros((num_points, num_points))
    for i in range(1, num_points - 1):
        diff_matrix[i, i - 1] = eta_T / dz**2
        diff_matrix[i, i] = -2 * eta_T / dz**2
        diff_matrix[i, i + 1] = eta_T / dz**2
    return diff_matrix

# Calculate the total magnetic field and the pitch angle
def get_B_and_pitch(solution_r, solution_phi):
    B_total = np.sqrt(solution_r**2 + solution_phi**2)
    pitch = np.arctan2(solution_phi, solution_r)
    return B_total, pitch

# Plot the total magnetic field and the pitch angle
def plot_pitch(time_grid, spatial_grid, B_total, pitch):
    plt.figure(figsize=(12, 6))
    
    # Plot total magnetic field
    plt.subplot(1, 2, 1)
    plt.imshow(B_total, extent=[spatial_grid[0], spatial_grid[-1], time_grid[0], time_grid[-1]], aspect='auto', cmap='viridis')
    plt.colorbar(label='Total Magnetic Field')
    plt.xlabel('z')
    plt.ylabel('Time')
    plt.title('Total Magnetic Field')

    # Plot pitch angle
    plt.subplot(1, 2, 2)
    plt.imshow(pitch, extent=[spatial_grid[0], spatial_grid[-1], time_grid[0], time_grid[-1]], aspect='auto', cmap='viridis')
    plt.colorbar(label='Pitch Angle')
    plt.xlabel('z')
    plt.ylabel('Time')
    plt.title('Pitch Angle')

    plt.tight_layout()

# Call the crank_nicolson_diffusion function to obtain the solution
solution_r, spatial_grid, time_grid = crank_nicolson_diffusion(z_min, z_max, t_max, dz, dt, eta_T, init_cond_Br, source_term)
solution_phi, _, _ = crank_nicolson_diffusion(z_min, z_max, t_max, dz, dt, eta_T, init_cond_Bphi, source_term)

# Calculate total magnetic field and pitch angle
B_total, pitch = get_B_and_pitch(solution_r, solution_phi)

# Plot the total magnetic field and the pitch angle
plot_pitch(time_grid, spatial_grid, B_total, pitch)
plt.show()

import numpy as np
import matplotlib.pyplot as plt

# Function to calculate decay rate and plot decay
def plot_decay(time_grid, B_total, spatial_grid):
    # Calculate decay at the midplane
    B_mid = np.log(B_total[int(len(spatial_grid)/2), :])
    
    # Perform linear regression to find decay rate
    m, c = np.polyfit(time_grid[-50:], B_mid[-50:], 1)
    
    # Plot decay
    plt.figure(figsize=(8, 6))
    plt.plot(time_grid, B_mid, label='Logarithm of Magnetic Field at Midplane')
    plt.plot(time_grid[-50:], m*time_grid[-50:] + c, 'r--', label=f'Linear Fit (Decay Rate: {m:.4f})')
    plt.xlabel('Time')
    plt.ylabel('Log(Magnetic Field)')
    plt.title('Decay of Magnetic Field at Midplane')
    plt.legend()
    plt.grid(True)
    plt.show()
    
    return m

# Assuming B_total, spatial_grid, and time_grid are already calculated
# Call plot_decay function
decay_rate = plot_decay(time_grid, B_total, spatial_grid)
print("Decay rate:", decay_rate)

Decay rate: -0.009471117053532718
2.Intial conditions(Br(x)=-1.5 * x * np.sin(3 * np.pi * x) + 0.5 * np.cos(2 * np.pi * x),Bphi(x)=0.6 - 0.4 * x**2 + 0.3 * np.sin(4 * np.pi * x))

import numpy as np
import matplotlib.pyplot as plt

# Function to define the initial condition for radial magnetic field Br
def init_cond_Br(x):
    # Modified sinusoidal equation for radial magnetic field
    return -1.5 * x * np.sin(3 * np.pi * x) + 0.5 * np.cos(2 * np.pi * x)

# Function to define the initial condition for azimuthal magnetic field Bphi
def init_cond_Bphi(x):
    # Modified equation for azimuthal magnetic field
    return 0.6 - 0.4 * x**2 + 0.3 * np.sin(4 * np.pi * x)

# Function to define the source term (for completeness, even though it's not used in this example)
def source_term(x, t):
    return 0

# Generate points along the z-axis
z = np.linspace(-1, 1, 101)

# Titles for the plots
title_1 = r'Algebraic-sinusoidal seed field '+'\n'+r'$ y = -1.5x\sin(3\pi x) + 0.5\cos(2\pi x)$'
title_2 = r'Modified sinusoidal seed field '+'\n'+r'$ y = 0.6 - 0.4x^2 + 0.3\sin(4\pi x)$'

# Plotting function
def plot_init_cond(z, init_cond_Br, init_cond_Bphi, title_1, title_2):
    # Create a figure and two subplots
    fig, axs = plt.subplots(1, 2, figsize=(12, 5))

    # Plot the initial condition for radial magnetic field
    axs[0].plot(z, init_cond_Br(z), label='Radial Field (Br)')
    axs[0].set_title(title_1)
    axs[0].set_xlabel('z')
    axs[0].set_ylabel('Magnetic Field Strength')
    axs[0].legend()

    # Plot the initial condition for azimuthal magnetic field
    axs[1].plot(z, init_cond_Bphi(z), label='Azimuthal Field (Bphi)', color='orange')
    axs[1].set_title(title_2)
    axs[1].set_xlabel('z')
    axs[1].set_ylabel('Magnetic Field Strength')
    axs[1].legend()

    # Adjust layout
    plt.tight_layout()

# Call the plotting function
plot_init_cond(z, init_cond_Br, init_cond_Bphi, title_1, title_2)

# Show the plot
plt.show()

import numpy as np
import matplotlib.pyplot as plt

# Function to define the initial condition for radial magnetic field Br
def init_cond_Br(x):
    # Modified sinusoidal equation for radial magnetic field
    return -1.5 * x * np.sin(3 * np.pi * x) + 0.5 * np.cos(2 * np.pi * x)

# Function to define the initial condition for azimuthal magnetic field Bphi
def init_cond_Bphi(x):
    # Modified equation for azimuthal magnetic field
    return 0.6 - 0.4 * x**2 + 0.3 * np.sin(4 * np.pi * x)

# Function to define the source term (for completeness, even though it's not used in this example)
def source_term(x, t):
    return 0

# Plotting function for initial conditions
def plot_init_cond(z, init_cond_Br, init_cond_Bphi, title_1, title_2):
    # Create a figure and two subplots
    fig, axs = plt.subplots(1, 2, figsize=(12, 5))

    # Plot the initial condition for radial magnetic field
    axs[0].plot(z, init_cond_Br(z), label='Radial Field (Br)')
    axs[0].set_title(title_1)
    axs[0].set_xlabel('z')
    axs[0].set_ylabel('Magnetic Field Strength')
    axs[0].legend()

    # Plot the initial condition for azimuthal magnetic field
    axs[1].plot(z, init_cond_Bphi(z), label='Azimuthal Field (Bphi)', color='orange')
    axs[1].set_title(title_2)
    axs[1].set_xlabel('z')
    axs[1].set_ylabel('Magnetic Field Strength')
    axs[1].legend()

    # Adjust layout
    plt.tight_layout()

# Function to define the diffusion equation solver
def crank_nicolson_diffusion(z_min, z_max, t_max, dz, dt, eta_T, init_cond, source_term):
    # Define spatial grid
    spatial_grid = np.arange(z_min, z_max + dz, dz)
    num_z_points = len(spatial_grid)
    
    # Define time grid
    time_grid = np.arange(0, t_max + dt, dt)
    num_t_points = len(time_grid)
    
    # Initialize solution matrix
    solution = np.zeros((num_t_points, num_z_points))
    
    # Set initial condition
    solution[0] = init_cond(spatial_grid)
    
    # Construct diffusion matrix
    diff_matrix = construct_diffusion_matrix(num_z_points, dz, eta_T)
    
    # Iterate over time steps
    for i in range(1, num_t_points):
        # Compute source term at current time step
        source = source_term(spatial_grid, time_grid[i])
        
        # Define matrices A and B for the Crank-Nicolson method
        A = np.eye(num_z_points) - 0.5 * dt * diff_matrix
        B = np.eye(num_z_points) + 0.5 * dt * diff_matrix
        
        # Apply boundary conditions (e.g., vacuum boundary conditions)
        A[0, 0] = 1
        A[-1, -1] = 1
        B[0, 0] = 1
        B[-1, -1] = 1
        
        # Compute next time step using Crank-Nicolson method
        solution[i] = np.linalg.solve(A, np.dot(B, solution[i - 1]) + 0.5 * dt * source)
    
    return solution, spatial_grid, time_grid

# Function to construct the diffusion matrix
def construct_diffusion_matrix(num_points, dz, eta_T):
    # Construct diffusion matrix using central difference scheme
    diff_matrix = np.zeros((num_points, num_points))
    for i in range(1, num_points - 1):
        diff_matrix[i, i - 1] = eta_T / dz**2
        diff_matrix[i, i] = -2 * eta_T / dz**2
        diff_matrix[i, i + 1] = eta_T / dz**2
    return diff_matrix

# Call the plotting function for initial conditions
z = np.linspace(-1, 1, 101)
title_1 = r'Algebraic-sinusoidal seed field' + '\n' + r'$ y = -1.5x\sin(3\pi x) + 0.5\cos(2\pi x)$'
title_2 = r'Modified sinusoidal seed field' + '\n' + r'$ y = 0.6 - 0.4x^2 + 0.3\sin(4\pi x)$'
plot_init_cond(z, init_cond_Br, init_cond_Bphi, title_1, title_2)
plt.show()

# Constants and parameters
eta_T = 3.48e-3    # Magnetic diffusivity
t_max = 200         # Total simulation time
z_min = -1.0        # Minimum thickness of the disk
z_max = 1.0         # Thickness of the disk
dt = t_max / 100    # Time step
dz = 0.02           # Spatial step in the z-direction

# Call the crank_nicolson_diffusion function to obtain the solution
solution_r, spatial_grid, time_grid = crank_nicolson_diffusion(z_min, z_max, t_max, dz, dt, eta_T, init_cond_Br, source_term)
solution_phi, _, _ = crank_nicolson_diffusion(z_min, z_max, t_max, dz, dt, eta_T, init_cond_Bphi, source_term)

# Plot the solution
plot_diffusion_solution(time_grid, spatial_grid, solution_r, solution_phi)
plt.show()


import numpy as np
import matplotlib.pyplot as plt

# Function to define the initial condition for radial magnetic field Br
def init_cond_Br(x):
    # Modified sinusoidal equation for radial magnetic field
    return -1.5 * x * np.sin(3 * np.pi * x) + 0.5 * np.cos(2 * np.pi * x)

# Function to define the initial condition for azimuthal magnetic field Bphi
def init_cond_Bphi(x):
    # Modified equation for azimuthal magnetic field
    return 0.6 - 0.4 * x**2 + 0.3 * np.sin(4 * np.pi * x)

# Function to define the source term (for completeness, even though it's not used in this example)
def source_term(x, t):
    return 0

# Function to define the diffusion equation solver
def crank_nicolson_diffusion(z_min, z_max, t_max, dz, dt, eta_T, init_cond, source_term):
    # Define spatial grid
    spatial_grid = np.arange(z_min, z_max + dz, dz)
    num_z_points = len(spatial_grid)
    
    # Define time grid
    time_grid = np.arange(0, t_max + dt, dt)
    num_t_points = len(time_grid)
    
    # Initialize solution matrix
    solution = np.zeros((num_t_points, num_z_points))
    
    # Set initial condition
    solution[0] = init_cond(spatial_grid)
    
    # Construct diffusion matrix
    diff_matrix = construct_diffusion_matrix(num_z_points, dz, eta_T)
    
    # Iterate over time steps
    for i in range(1, num_t_points):
        # Compute source term at current time step
        source = source_term(spatial_grid, time_grid[i])
        
        # Define matrices A and B for the Crank-Nicolson method
        A = np.eye(num_z_points) - 0.5 * dt * diff_matrix
        B = np.eye(num_z_points) + 0.5 * dt * diff_matrix
        
        # Apply boundary conditions (e.g., vacuum boundary conditions)
        A[0, 0] = 1
        A[-1, -1] = 1
        B[0, 0] = 1
        B[-1, -1] = 1
        
        # Compute next time step using Crank-Nicolson method
        solution[i] = np.linalg.solve(A, np.dot(B, solution[i - 1]) + 0.5 * dt * source)
    
    return solution, spatial_grid, time_grid

# Function to construct the diffusion matrix
def construct_diffusion_matrix(num_points, dz, eta_T):
    # Construct diffusion matrix using central difference scheme
    diff_matrix = np.zeros((num_points, num_points))
    for i in range(1, num_points - 1):
        diff_matrix[i, i - 1] = eta_T / dz**2
        diff_matrix[i, i] = -2 * eta_T / dz**2
        diff_matrix[i, i + 1] = eta_T / dz**2
    return diff_matrix

# Calculate the total magnetic field and the pitch angle
def get_B_and_pitch(solution_r, solution_phi):
    B_total = np.sqrt(solution_r**2 + solution_phi**2)
    pitch = np.arctan2(solution_phi, solution_r)
    return B_total, pitch

# Plot the total magnetic field and the pitch angle
def plot_pitch(time_grid, spatial_grid, B_total, pitch):
    plt.figure(figsize=(12, 6))
    
    # Plot total magnetic field
    plt.subplot(1, 2, 1)
    plt.imshow(B_total, extent=[spatial_grid[0], spatial_grid[-1], time_grid[0], time_grid[-1]], aspect='auto', cmap='viridis')
    plt.colorbar(label='Total Magnetic Field')
    plt.xlabel('z')
    plt.ylabel('Time')
    plt.title('Total Magnetic Field')

    # Plot pitch angle
    plt.subplot(1, 2, 2)
    plt.imshow(pitch, extent=[spatial_grid[0], spatial_grid[-1], time_grid[0], time_grid[-1]], aspect='auto', cmap='viridis')
    plt.colorbar(label='Pitch Angle')
    plt.xlabel('z')
    plt.ylabel('Time')
    plt.title('Pitch Angle')

    plt.tight_layout()

# Constants and parameters
eta_T = 3.48e-3    # Magnetic diffusivity
t_max = 200         # Total simulation time
z_min = -1.0        # Minimum thickness of the disk
z_max = 1.0         # Thickness of the disk
dt = t_max / 100    # Time step
dz = 0.02          # Spatial step in the z-direction

# Call the crank_nicolson_diffusion function to obtain the solution
solution_r, spatial_grid, time_grid = crank_nicolson_diffusion(z_min, z_max, t_max, dz, dt, eta_T, init_cond_Br, source_term)
solution_phi, _, _ = crank_nicolson_diffusion(z_min, z_max, t_max, dz, dt, eta_T, init_cond_Bphi, source_term)

# Calculate total magnetic field and pitch angle
B_total, pitch = get_B_and_pitch(solution_r, solution_phi)

# Plot the total magnetic field and the pitch angle
plot_pitch(time_grid, spatial_grid, B_total, pitch)
plt.show()

# Decay rate calculation and plotting
def plot_decay(time_grid, B_total, spatial_grid):
    # Calculate decay at the midplane
    B_mid = np.log(B_total[int(len(spatial_grid)/2), :])
    
    # Perform linear regression to find decay rate
    m, c = np.polyfit(time_grid[-50:], B_mid[-50:], 1)
    
    # Plot decay
    plt.figure(figsize=(8, 6))
    plt.plot(time_grid, B_mid, label='Logarithm of Magnetic Field at Midplane')
    plt.plot(time_grid[-50:], m*time_grid[-50:] + c, 'r--', label=f'Linear Fit (Decay Rate: {m:.4f})')
    plt.xlabel('Time')
    plt.ylabel('Log(Magnetic Field)')
    plt.title('Decay of Magnetic Field at Midplane')
    plt.legend()
    plt.grid(True)
    plt.show()
    
    return m

# Call the decay rate calculation and plotting function
decay_rate = plot_decay(time_grid, B_total, spatial_grid)
print("Decay rate:", decay_rate)

Decay rate: 0.002162978653994411
2.Intial conditions(Br(x)=np.sin(2np.pix) + 0.5x**2 ,Bphi(x)=np.cos(np.pix) - 0.5*x

import numpy as np
import matplotlib.pyplot as plt

# Define the initial conditions for Br
def init_cond_Br(x):
    return np.sin(2*np.pi*x) + 0.5*x**2

# Define the initial conditions for Bphi
def init_cond_Bphi(x):
    return np.cos(np.pi*x) - 0.5*x

# Define the plot function for initial conditions
def plot_init_cond(z, init_cond_Br, init_cond_Bphi, title_1, title_2):
    plt.figure(figsize=(10, 5))

    # Plot Br initial condition
    plt.subplot(1, 2, 1)
    plt.plot(z, init_cond_Br(z), label='Br')
    plt.xlabel('z')
    plt.ylabel('Magnitude')
    plt.title(title_1)
    plt.legend()

    # Plot Bphi initial condition
    plt.subplot(1, 2, 2)
    plt.plot(z, init_cond_Bphi(z), label='Bphi')
    plt.xlabel('z')
    plt.ylabel('Magnitude')
    plt.title(title_2)
    plt.legend()

    plt.tight_layout()

# Define z grid
z = np.linspace(-1, 1, 101)

# Titles for the plots
title_1 = r'Arbitrary seed field '+'\n'+r'$ y = \sin(2\pi x) + 0.5x^2$'
title_2 = r'Sinusoidal seed field '+'\n'+r'$ y = \cos(\pi x) - 0.5x$'

# Plot initial conditions
plot_init_cond(z, init_cond_Br, init_cond_Bphi, title_1, title_2)
plt.show()

import numpy as np
import matplotlib.pyplot as plt

# Define constants and parameters
eta_T = 4.56e-3    # modified magnetic diffusivity
t_max = 150     # total simulation time
z_min = -1.0     # minimum thickness of the disk
z_max = 1.0     # thickness of the disk
dt = t_max/250       # time step
dz = 0.02       # spatial step in z direction

# Define a function to solve the diffusion equation using Crank-Nicolson method
def crank_nicolson_diffusion(z_min, z_max, t_max, dz, dt, eta_T, init_cond, source_term):
    # Define spatial grid
    spatial_grid = np.arange(z_min, z_max + dz, dz)
    num_z_points = len(spatial_grid)
    
    # Define time grid
    time_grid = np.arange(0, t_max + dt, dt)
    num_t_points = len(time_grid)
    
    # Initialize solution matrix
    solution = np.zeros((num_t_points, num_z_points))
    
    # Set initial condition
    solution[0] = init_cond(spatial_grid)
    
    # Construct diffusion matrix
    diff_matrix = construct_diffusion_matrix(num_z_points, dz, eta_T)
    
    # Iterate over time steps
    for i in range(1, num_t_points):
        # Compute source term at current time step
        source = source_term(spatial_grid, time_grid[i])
        
        # Define matrices A and B for the Crank-Nicolson method
        A = np.eye(num_z_points) - 0.5 * dt * diff_matrix
        B = np.eye(num_z_points) + 0.5 * dt * diff_matrix
        
        # Apply boundary conditions (e.g., vacuum boundary conditions)
        A[0, 0] = 1
        A[-1, -1] = 1
        B[0, 0] = 1
        B[-1, -1] = 1
        
        # Compute next time step using Crank-Nicolson method
        solution[i] = np.linalg.solve(A, np.dot(B, solution[i - 1]) + 0.5 * dt * source)
    
    return solution, spatial_grid, time_grid

def construct_diffusion_matrix(num_points, dz, eta_T):
    # Construct diffusion matrix using central difference scheme
    diff_matrix = np.zeros((num_points, num_points))
    for i in range(1, num_points - 1):
        diff_matrix[i, i - 1] = eta_T / dz**2
        diff_matrix[i, i] = -2 * eta_T / dz**2
        diff_matrix[i, i + 1] = eta_T / dz**2
    return diff_matrix

# Define initial conditions for Br
def init_cond_Br(x):
    return np.sin(np.pi * x) + 0.5 * x**2

# Define initial conditions for Bphi
def init_cond_Bphi(x):
    return np.cos(2 * np.pi * x) - 0.5 * x

# Define a function for the source term
def source_term(x, t):
    return np.sin(3 * np.pi * x) * np.exp(-0.1 * t)

# Define a function to plot the diffusion equation solution
def plot_diff(time_grid, spatial_grid, solution_r, solution_phi):
    plt.figure(figsize=(10, 5))
    plt.subplot(1, 2, 1)
    plt.imshow(solution_r, extent=[0, t_max, z_min, z_max], aspect='auto', cmap='viridis')
    plt.colorbar(label='Br')
    plt.xlabel('Time')
    plt.ylabel('z')
    plt.title('Solution for Br')

    plt.subplot(1, 2, 2)
    plt.imshow(solution_phi, extent=[0, t_max, z_min, z_max], aspect='auto', cmap='viridis')
    plt.colorbar(label='Bphi')
    plt.xlabel('Time')
    plt.ylabel('z')
    plt.title('Solution for Bphi')

    plt.tight_layout()

# Call the crank_nicolson_diffusion function to obtain the solution
solution_r, spatial_grid, time_grid = crank_nicolson_diffusion(z_min, z_max, t_max, dz, dt, eta_T, init_cond_Br, source_term)
solution_phi, _, _ = crank_nicolson_diffusion(z_min, z_max, t_max, dz, dt, eta_T, init_cond_Bphi, source_term)

# Plot the solution
plot_diff(time_grid, spatial_grid, solution_r, solution_phi)
plt.show()

import numpy as np
import matplotlib.pyplot as plt

# Constants and parameters
eta_T = 3.48e-3  # Magnetic diffusivity (in m^2/s)
t_max = 200  # Total simulation time (in seconds)
z_min = -1.0  # Minimum thickness of the disk (in meters)
z_max = 1.0  # Thickness of the disk (in meters)
dt = t_max / 200  # Time step (in seconds)
dz = 0.01  # Spatial step in z direction (in meters)

# Define the initial condition for Br (radial magnetic field)
def init_cond_Br(z):
    """Define the initial condition for radial magnetic field (Br)."""
    return np.sin(np.pi * z) + 0.5 * z**2


# Define the initial condition for Bphi (azimuthal magnetic field)
def init_cond_Bphi(z):
    """Define the initial condition for azimuthal magnetic field (Bphi)."""
    return np.cos(2 * np.pi * z) - 0.5 * z

# Define the source term for the diffusion equation
def source_term(z, t):
    """Define the source term for the diffusion equation."""
    return 0

# Define the function to solve the diffusion equation using Crank-Nicolson method
def crank_nicolson_diffusion(z_min, z_max, t_max, dz, dt, eta_T, init_cond, source_term):
    """Solve the diffusion equation using Crank-Nicolson method."""
    # Define spatial grid
    spatial_grid = np.arange(z_min, z_max + dz, dz)
    num_z_points = len(spatial_grid)
    
    # Define time grid
    time_grid = np.arange(0, t_max + dt, dt)
    num_t_points = len(time_grid)
    
    # Initialize solution matrices
    solution = np.zeros((num_t_points, num_z_points))
    
    # Set initial condition
    solution[0] = init_cond(spatial_grid)
    
    # Iterate over time steps
    for i in range(1, num_t_points):
        # Compute source term at current time step
        source = source_term(spatial_grid, time_grid[i])
        
        # Construct matrices A and B for the Crank-Nicolson method
        A = np.eye(num_z_points) - 0.5 * dt * construct_diffusion_matrix(num_z_points, dz, eta_T)
        B = np.eye(num_z_points) + 0.5 * dt * construct_diffusion_matrix(num_z_points, dz, eta_T)
        
        # Apply boundary conditions (e.g., vacuum boundary conditions)
        A[0, 0] = 1
        A[-1, -1] = 1
        B[0, 0] = 1
        B[-1, -1] = 1
        
        # Compute next time step using Crank-Nicolson method
        solution[i] = np.linalg.solve(A, np.dot(B, solution[i - 1]) + 0.5 * dt * source)
    
    return solution, spatial_grid, time_grid

# Define the function to construct the diffusion matrix
def construct_diffusion_matrix(num_points, dz, eta_T):
    """Construct the diffusion matrix using central difference scheme."""
    diff_matrix = np.zeros((num_points, num_points))
    for i in range(1, num_points - 1):
        diff_matrix[i, i - 1] = eta_T / dz**2
        diff_matrix[i, i] = -2 * eta_T / dz**2
        diff_matrix[i, i + 1] = eta_T / dz**2
    return diff_matrix

# Solve the diffusion equation in radial direction
solution_r, spatial_grid, time_grid = crank_nicolson_diffusion(z_min, z_max, t_max, dz, dt, eta_T, init_cond_Br, source_term)

# Solve the diffusion equation in azimuthal direction
solution_phi, _, _ = crank_nicolson_diffusion(z_min, z_max, t_max, dz, dt, eta_T, init_cond_Bphi, source_term)

# Plot the diffusion equation solution
plt.figure(figsize=(12, 6))

# Plot solution for Br
plt.subplot(1, 2, 1)
plt.imshow(solution_r, extent=[z_min, z_max, 0, t_max], aspect='auto', cmap='viridis')
plt.colorbar(label='Br')
plt.xlabel('z (meters)')
plt.ylabel('Time (seconds)')
plt.title('Solution for Radial Magnetic Field (Br)')

# Plot solution for Bphi
plt.subplot(1, 2, 2)
plt.imshow(solution_phi, extent=[z_min, z_max, 0, t_max], aspect='auto', cmap='viridis')
plt.colorbar(label='Bphi')
plt.xlabel('z (meters)')
plt.ylabel('Time (seconds)')
plt.title('Solution for Azimuthal Magnetic Field (Bphi)')

plt.tight_layout()
plt.show()

import numpy as np
import matplotlib.pyplot as plt

# Constants and parameters
eta_T = 3.48e-3  # Magnetic diffusivity (in m^2/s)
t_max = 200  # Total simulation time (in seconds)
z_min = -1.0  # Minimum thickness of the disk (in meters)
z_max = 1.0  # Thickness of the disk (in meters)
dt = t_max / 200  # Time step (in seconds)
dz = 0.01  # Spatial step in z direction (in meters)

# Define the initial condition for Br (radial magnetic field)
def init_cond_Br(z):
    """Define the initial condition for radial magnetic field (Br)."""
    return np.sin(np.pi * z) + 0.5 * z**2

# Define the initial condition for Bphi (azimuthal magnetic field)
def init_cond_Bphi(z):
    """Define the initial condition for azimuthal magnetic field (Bphi)."""
    return np.cos(2 * np.pi * z) - 0.5 * z

# Define the source term for the diffusion equation
def source_term(z, t):
    """Define the source term for the diffusion equation."""
    return 0

# Define the function to solve the diffusion equation using Crank-Nicolson method
def crank_nicolson_diffusion(z_min, z_max, t_max, dz, dt, eta_T, init_cond, source_term):
    """Solve the diffusion equation using Crank-Nicolson method."""
    # Define spatial grid
    spatial_grid = np.arange(z_min, z_max + dz, dz)
    num_z_points = len(spatial_grid)
    
    # Define time grid
    time_grid = np.arange(0, t_max + dt, dt)
    num_t_points = len(time_grid)
    
    # Initialize solution matrices
    solution = np.zeros((num_t_points, num_z_points))
    
    # Set initial condition
    solution[0] = init_cond(spatial_grid)
    
    # Iterate over time steps
    for i in range(1, num_t_points):
        # Compute source term at current time step
        source = source_term(spatial_grid, time_grid[i])
        
        # Construct matrices A and B for the Crank-Nicolson method
        A = np.eye(num_z_points) - 0.5 * dt * construct_diffusion_matrix(num_z_points, dz, eta_T)
        B = np.eye(num_z_points) + 0.5 * dt * construct_diffusion_matrix(num_z_points, dz, eta_T)
        
        # Apply boundary conditions (e.g., vacuum boundary conditions)
        A[0, 0] = 1
        A[-1, -1] = 1
        B[0, 0] = 1
        B[-1, -1] = 1
        
        # Compute next time step using Crank-Nicolson method
        solution[i] = np.linalg.solve(A, np.dot(B, solution[i - 1]) + 0.5 * dt * source)
    
    return solution, spatial_grid, time_grid

# Define the function to construct the diffusion matrix
def construct_diffusion_matrix(num_points, dz, eta_T):
    """Construct the diffusion matrix using central difference scheme."""
    diff_matrix = np.zeros((num_points, num_points))
    for i in range(1, num_points - 1):
        diff_matrix[i, i - 1] = eta_T / dz**2
        diff_matrix[i, i] = -2 * eta_T / dz**2
        diff_matrix[i, i + 1] = eta_T / dz**2
    return diff_matrix

# Solve the diffusion equation in radial direction
solution_r, spatial_grid, time_grid = crank_nicolson_diffusion(z_min, z_max, t_max, dz, dt, eta_T, init_cond_Br, source_term)

# Solve the diffusion equation in azimuthal direction
solution_phi, _, _ = crank_nicolson_diffusion(z_min, z_max, t_max, dz, dt, eta_T, init_cond_Bphi, source_term)

# Calculate the total magnetic field
B_total = np.sqrt(solution_r**2 + solution_phi**2)

# Calculate the decay of the magnetic field at the midplane
B_mid = np.log(B_total[int(len(spatial_grid) / 2), :])
m, c = np.polyfit(time_grid[-50:], B_mid[-50:], 1)

# Plot the decay with the fitted line and slope
plt.plot(time_grid, B_mid, label='Log Magnetic Field at Midplane')
plt.plot(time_grid[-50:], m * time_grid[-50:] + c, 'r--', label=f'Fitted Line (Slope = {m:.2f})')
plt.xlabel('Time (seconds)')
plt.ylabel('Log Magnetic Field')
plt.title('Decay of Magnetic Field at Midplane')
plt.legend()
plt.grid(True)
plt.show()
